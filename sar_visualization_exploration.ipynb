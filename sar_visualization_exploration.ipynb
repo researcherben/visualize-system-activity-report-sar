{
 "cells": [
  {
   "cell_type": "markdown",
   "id": "79e3b4cc-c471-4ed9-8c52-159af834fe50",
   "metadata": {},
   "source": [
    "# Install SAR, collect data, plot results"
   ]
  },
  {
   "cell_type": "code",
   "execution_count": null,
   "id": "5def5e9a-670f-4342-a58a-757692f38c89",
   "metadata": {},
   "outputs": [],
   "source": [
    "import pandas\n",
    "import json\n",
    "import datetime\n",
    "from matplotlib import pyplot as plt\n",
    "from matplotlib import dates as mpl_dates\n"
   ]
  },
  {
   "cell_type": "markdown",
   "id": "770a81f9-a690-4784-a3ae-12c717ee9fc7",
   "metadata": {},
   "source": [
    "To install SAR on CentOS 7,\n",
    "```bash\n",
    "sudo yum install sysstat\n",
    "```\n",
    "\n",
    "Once installed you can launch the service that writes to `/var/log/sa` using\n",
    "```bash\n",
    "sudo systemctl start sysstat\n",
    "```\n",
    "\n",
    "Then\n",
    "```bash\n",
    "sadf -T -h -d /var/log/sa/sa* -- -A\n",
    "```\n",
    "produces"
   ]
  },
  {
   "cell_type": "code",
   "execution_count": null,
   "id": "345d7067-c1b1-4b64-bce7-e303bb910504",
   "metadata": {},
   "outputs": [],
   "source": [
    "fileoutput=\"\"\"hostname;interval;timestamp;CPU;%usr;%nice;%sys;%iowait;%steal;%irq;%soft;%guest;%gnice;%idle[...];proc/s;cswch/s;pswpin/s;pswpout/s;pgpgin/s;pgpgout/s;fault/s;majflt/s;pgfree/s;pgscank/s;pgscand/s;pgsteal/s;%vmeff;tps;rtps;wtps;bread/s;bwrtn/s;frmpg/s;bufpg/s;campg/s;kbmemfree;kbmemused;%memused;kbbuffers;kbcached;kbcommit;%commit;kbactive;kbinact;kbdirty;kbswpfree;kbswpused;%swpused;kbswpcad;%swpcad;kbhugfree;kbhugused;%hugused;dentunusd;file-nr;inode-nr;pty-nr;runq-sz;plist-sz;ldavg-1;ldavg-5;ldavg-15;blocked;TTY;rcvin/s;txmtin/s;framerr/s;prtyerr/s;brk/s;ovrun/s[...];DEV;tps;rd_sec/s;wr_sec/s;avgrq-sz;avgqu-sz;await;svctm;%util[...];IFACE;rxpck/s;txpck/s;rxkB/s;txkB/s;rxcmp/s;txcmp/s;rxmcst/s[...];IFACE;rxerr/s;txerr/s;coll/s;rxdrop/s;txdrop/s;txcarr/s;rxfram/s;rxfifo/s;txfifo/s[...];call/s;retrans/s;read/s;write/s;access/s;getatt/s;scall/s;badcall/s;packet/s;udp/s;tcp/s;hit/s;miss/s;sread/s;swrite/s;saccess/s;sgetatt/s;totsck;tcpsck;udpsck;rawsck;ip-frag;tcp-tw\n",
    "centos-s-1vcpu-512mb-10gb-nyc1-01;599;2022-08-20 18:40:01;-1;0.12;0.00;0.11;0.00;0.21;0.00;0.00;0.00;0.00;99.57;0;0.12;0.00;0.11;0.00;0.21;0.00;0.00;0.00;0.00;99.57;0.17;66.56;0.00;0.00;1.53;1.76;122.97;0.00;51.90;0.00;0.00;0.00;0.00;0.20;0.01;0.19;3.06;3.52;0.02;0.00;0.46;93508;405060;81.24;40;272380;358892;71.98;210388;96704;0;0;0;0.00;0;0.00;0;0;0.00;12617;992;23885;1;1;113;0.00;0.01;0.05;0;0;0.00;0;0.00;0;0.00;0;0.00;0;0.00;0;0.00;dev253-0;0.20;3.06;3.52;33.70;0.00;2.32;1.50;0.03;dev253-16;0.00;0.00;0.00;0.00;0.00;0.00;0.00;0.00;eth0;4.09;3.21;0.36;1.11;0.00;0.00;0.00;eth1;0.00;0.00;0.00;0.00;0.00;0.00;0.00;lo;0.00;0.00;0.00;0.00;0.00;0.00;0.00;eth0;0.00;0.00;0.00;0.00;0.00;0.00;0.00;0.00;0.00;eth1;0.00;0.00;0.00;0.00;0.00;0.00;0.00;0.00;0.00;lo;0.00;0.00;0.00;0.00;0.00;0.00;0.00;0.00;0.00;0.00;0.00;0.00;0.00;0.00;0.00;0.00;0.00;0.00;0.00;0.00;0.00;0.00;0.00;0.00;0.00;0.00;177;4;3;1;0;0\n",
    "centos-s-1vcpu-512mb-10gb-nyc1-01;599;2022-08-20 18:50:01;-1;0.05;0.00;0.04;0.00;0.12;0.00;0.00;0.00;0.00;99.79;0;0.05;0.00;0.04;0.00;0.12;0.00;0.00;0.00;0.00;99.79;0.07;52.92;0.00;0.00;0.03;1.05;37.44;0.00;17.52;0.00;0.00;0.00;0.00;0.14;0.01;0.14;0.07;2.09;-0.06;0.00;0.01;93368;405200;81.27;40;272412;358892;71.98;210908;96216;8;0;0;0.00;0;0.00;0;0;0.00;12629;992;23871;1;1;113;0.00;0.01;0.05;0;0;0.00;0;0.00;0;0.00;0;0.00;0;0.00;0;0.00;dev253-0;0.14;0.07;2.09;15.40;0.00;2.12;1.23;0.02;dev253-16;0.00;0.00;0.00;0.00;0.00;0.00;0.00;0.00;eth0;3.94;3.03;0.34;0.62;0.00;0.00;0.00;eth1;0.00;0.00;0.00;0.00;0.00;0.00;0.00;lo;0.00;0.00;0.00;0.00;0.00;0.00;0.00;eth0;0.00;0.00;0.00;0.00;0.00;0.00;0.00;0.00;0.00;eth1;0.00;0.00;0.00;0.00;0.00;0.00;0.00;0.00;0.00;lo;0.00;0.00;0.00;0.00;0.00;0.00;0.00;0.00;0.00;0.00;0.00;0.00;0.00;0.00;0.00;0.00;0.00;0.00;0.00;0.00;0.00;0.00;0.00;0.00;0.00;0.00;177;4;3;1;0;0\n",
    "centos-s-1vcpu-512mb-10gb-nyc1-01;599;2022-08-20 19:00:01;-1;0.06;0.00;0.04;0.01;0.14;0.00;0.00;0.00;0.00;99.75;0;0.06;0.00;0.04;0.01;0.14;0.00;0.00;0.00;0.00;99.75;0.09;51.17;0.00;0.00;0.00;0.95;50.74;0.00;25.86;0.00;0.00;0.00;0.00;0.13;0.00;0.13;0.00;1.89;-0.32;0.00;0.01;92600;405968;81.43;40;272424;359648;72.14;211700;96204;0;0;0;0.00;0;0.00;0;0;0.00;12631;1024;23897;1;1;114;0.00;0.01;0.05;0;0;0.00;0;0.00;0;0.00;0;0.00;0;0.00;0;0.00;dev253-0;0.13;0.00;1.89;14.92;0.00;7.59;3.63;0.05;dev253-16;0.00;0.00;0.00;0.00;0.00;0.00;0.00;0.00;eth0;2.21;1.81;0.19;0.61;0.00;0.00;0.00;eth1;0.00;0.00;0.00;0.00;0.00;0.00;0.00;lo;0.00;0.00;0.00;0.00;0.00;0.00;0.00;eth0;0.00;0.00;0.00;0.00;0.00;0.00;0.00;0.00;0.00;eth1;0.00;0.00;0.00;0.00;0.00;0.00;0.00;0.00;0.00;lo;0.00;0.00;0.00;0.00;0.00;0.00;0.00;0.00;0.00;0.00;0.00;0.00;0.00;0.00;0.00;0.00;0.00;0.00;0.00;0.00;0.00;0.00;0.00;0.00;0.00;0.00;176;4;3;1;0;0\n",
    "\"\"\""
   ]
  },
  {
   "cell_type": "code",
   "execution_count": null,
   "id": "ae376fe9-ab09-4e38-8704-ff6f08c0700b",
   "metadata": {},
   "outputs": [],
   "source": [
    "column_meanings={\n",
    "\"tps\": \"Total number of transfers per second that were issued to physical devices. A transfer is an I/O request to a physical device. Multiple logical requests can be combined into a single I/O request to the device. A transfer is of indeterminate size.\",\n",
    "\"rtps\": \"Total number of read requests per second issued to physical devices.\",\n",
    "\"wtps\": \"Total number of write requests per second issued to physical devices.\",\n",
    "\"bread/s\": \"Total amount of data read from the devices in blocks per second. Blocks are equivalent to sectors with 2.4 kernels and newer and therefore have a size of 512 bytes. With older kernels, a block is of indeterminate size.\",\n",
    "\"bwrtn/s\": \"Total amount of data written to devices in blocks per second.\",\n",
    "\"pgpgin/s\": \"Total number of kilobytes the system paged in from disk per second. Note: With old kernels (2.2.x) this value is a number of blocks per second (and not kilobytes).\",\n",
    "\"pgpgout/s\": \"Total number of kilobytes the system paged out to disk per second. Note: With old kernels (2.2.x) this value is a number of blocks per second (and not kilobytes).\",\n",
    "\"fault/s\": \"Number of page faults (major + minor) made by the system per second (post 2.5 kernels only). This is not a count of page faults that generate I/O, because some page faults can be resolved without I/O.\",\n",
    "\"majflt/s\": \"Number of major faults the system has made per second, those which have required loading a memory page from disk (post 2.5 kernels only).\",\n",
    "\"proc/s\": \"Total number of processes created per second.\",\n",
    "\"tps\": \"Indicate the number of transfers per second that were issued to the device. Multiple logical requests can be combined into a single I/O request to the device. A transfer is of indeterminate size.\",\n",
    "\"rd_sec/s\": \"Number of sectors read from the device. The size of a sector is 512 bytes.\",\n",
    "\"wr_sec/s\": \"Number of sectors written to the device. The size of a sector is 512 bytes.\",\n",
    "\"avgrq-sz\": \"The average size (in sectors) of the requests that were issued to the device.\",\n",
    "\"avgqu-sz\": \"The average queue length of the requests that were issued to the device.\",\n",
    "\"await\": \"The average time (in milliseconds) for I/O requests issued to the device to be served. This includes the time spent by the requests in queue and the time spent servicing them.\",\n",
    "\"svctm\": \"The average service time (in milliseconds) for I/O requests that were issued to the device.\",\n",
    "\"%util\": \"Percentage of CPU time during which I/O requests were issued to the device (bandwidth utilization for the device). Device saturation occurs when this value is close to 100%.\",\n",
    "\"IFACE\": \"Name of the network interface for which statistics are reported.\",\n",
    "\"rxpck/s\": \"Total number of packets received per second.\",\n",
    "\"txpck/s\": \"Total number of packets transmitted per second.\",\n",
    "\"rxbyt/s\": \"Total number of bytes received per second.\",\n",
    "\"txbyt/s\": \"Total number of bytes transmitted per second.\",\n",
    "\"rxcmp/s\": \"Number of compressed packets received per second (for cslip etc.).\",\n",
    "\"txcmp/s\": \"Number of compressed packets transmitted per second.\",\n",
    "\"rxmcst/s\": \"Number of multicast packets received per second.\",\n",
    "\"IFACE\": \"Name of the network interface for which statistics are reported.\",\n",
    "\"rxerr/s\": \"Total number of bad packets received per second.\",\n",
    "\"txerr/s\": \"Total number of errors that happened per second while transmitting packets.\",\n",
    "\"coll/s\": \"Number of collisions that happened per second while transmitting packets.\",\n",
    "\"rxdrop/s\": \"Number of received packets dropped per second because of a lack of space in linux buffers.\",\n",
    "\"txdrop/s\": \"Number of transmitted packets dropped per second because of a lack of space in linux buffers.\",\n",
    "\"txcarr/s\": \"Number of carrier-errors that happened per second while transmitting packets.\",\n",
    "\"rxfram/s\": \"Number of frame alignment errors that happened per second on received packets.\",\n",
    "\"rxfifo/s\": \"Number of FIFO overrun errors that happened per second on received packets.\",\n",
    "\"txfifo/s\": \"Number of FIFO overrun errors that happened per second on transmitted packets.\",\n",
    "\"call/s\": \"Number of RPC requests made per second.\",\n",
    "\"retrans/s\": \"Number of RPC requests per second, those which needed to be retransmitted (for example because of a server timeout).\",\n",
    "\"read/s\": \"Number of 'read' RPC calls made per second.\",\n",
    "\"write/s\": \"Number of 'write' RPC calls made per second.\",\n",
    "\"access/s\": \"Number of 'access' RPC calls made per second.\",\n",
    "\"getatt/s\": \"Number of 'getattr' RPC calls made per second.\",\n",
    "\"scall/s\": \"Number of RPC requests received per second.\",\n",
    "\"badcall/s\": \"Number of bad RPC requests received per second, those whose processing generated an error.\",\n",
    "\"packet/s\": \"Number of network packets received per second.\",\n",
    "\"udp/s\": \"Number of UDP packets received per second.\",\n",
    "\"tcp/s\": \"Number of TCP packets received per second.\",\n",
    "\"hit/s\": \"Number of reply cache hits per second.\",\n",
    "\"miss/s\": \"Number of reply cache misses per second.\",\n",
    "\"sread/s\": \"Number of 'read' RPC calls received per second.\",\n",
    "\"swrite/s\": \"Number of 'write' RPC calls received per second.\",\n",
    "\"saccess/s\": \"Number of 'access' RPC calls received per second.\",\n",
    "\"sgetatt/s\": \"Number of 'getattr' RPC calls received per second.\",\n",
    "\n",
    "\"totsck\": \"Total number of used sockets.\",\n",
    "\"tcpsck\": \"Number of TCP sockets currently in use.\",\n",
    "\"udpsck\": \"Number of UDP sockets currently in use.\",\n",
    "\"rawsck\": \"Number of RAW sockets currently in use.\",\n",
    "\"ip-frag\": \"Number of IP fragments currently in use.\",\n",
    "\n",
    "\"runq-sz\": \"Run queue length (number of processes waiting for run time).\",\n",
    "\"plist-sz\": \"Number of processes and threads in the process list.\",\n",
    "\"ldavg-1\": \"System load average for the last minute.\",\n",
    "\"ldavg-5\": \"System load average for the past 5 minutes.\",\n",
    "\"ldavg-15\": \"System load average for the past 15 minutes.\",\n",
    "\n",
    "\"kbmemfree\": \"Amount of free memory available in kilobytes.\",\n",
    "\"kbmemused\": \"Amount of used memory in kilobytes. This does not take into account memory used by the kernel itself.\",\n",
    "\"%memused\": \"Percentage of used memory.\",\n",
    "\"kbbuffers\": \"Amount of memory used as buffers by the kernel in kilobytes.\",\n",
    "\"kbcached\": \"Amount of memory used to cache data by the kernel in kilobytes.\",\n",
    "\"kbswpfree\": \"Amount of free swap space in kilobytes.\",\n",
    "\"kbswpused\": \"Amount of used swap space in kilobytes.\",\n",
    "\"%swpused\": \"Percentage of used swap space.\",\n",
    "\"kbswpcad\": \"Amount of cached swap memory in kilobytes. This is memory that once was swapped out, is swapped back in but still also is in the swap area (if memory is needed it doesn't need to be swapped out again because it is already in the swap area. This saves I/O).\",\n",
    "\n",
    "\"frmpg/s\": \"Number of memory pages freed by the system per second. A negative value represents a number of pages allocated by the system. Note that a page has a size of 4 kB or 8 kB according to the machine architecture.\",\n",
    "\"bufpg/s\": \"Number of additional memory pages used as buffers by the system per second. A negative value means fewer pages used as buffers by the system.\",\n",
    "\"campg/s\": \"Number of additional memory pages cached by the system per second. A negative value means fewer pages in the cache.\",\n",
    "\n",
    "\"%user\": \"Percentage of CPU utilization that occurred while executing at the user level (application).\",\n",
    "\"%nice\": \"Percentage of CPU utilization that occurred while executing at the user level with nice priority.\",\n",
    "\"%system\": \"Percentage of CPU utilization that occurred while executing at the system level (kernel).\",\n",
    "\"%iowait\": \"Percentage of time that the CPU or CPUs were idle during which the system had an outstanding disk I/O request.\",\n",
    "\"%steal\": \"Show the percentage of time spent in involuntary wait by the virtual CPU or CPUs while the hypervisor was servicing another virtual processor.\",\n",
    "\"%idle\": \"Percentage of time that the CPU or CPUs were idle and the system did not have an outstanding disk I/O request. Note: In virtualized hardware environment, this also includes the time spent in involuntary wait by the virtual CPU or CPUs while the hypervisor was servicing another virtual processor.\",\n",
    "\n",
    "\"dentunusd\": \"Number of unused cache entries in the directory cache.\",\n",
    "\"file-sz\": \"Number of used file handles.\",\n",
    "\"inode-sz\": \"Number of used inode handlers.\",\n",
    "\"super-sz\": \"Number of super block handlers allocated by the kernel.\",\n",
    "\"%super-sz\": \"Percentage of allocated super block handlers with regard to the maximum number of super block handlers that Linux can allocate.\",\n",
    "\"dquot-sz\": \"Number of allocated disk quota entries.\",\n",
    "\"%dquot-sz\": \"Percentage of allocated disk quota entries with regard to the maximum number of cached disk quota entries that can be allocated.\",\n",
    "\"rtsig-sz\": \"Number of queued RT signals.\",\n",
    "\"%rtsig-sz\": \"Percentage of queued RT signals with regard to the maximum number of RT signals that can be queued.\",\n",
    "\n",
    "\"cswch/s\": \"Total number of context switches per second.\",\n",
    "\n",
    "\"pswpin/s\": \"Total number of swap pages the system brought in per second.\",\n",
    "\"pswpout/s\": \"Total number of swap pages the system brought out per second.\",\n",
    "\n",
    "\"minflt/s\": \"Total number of minor faults the process has made per second, those which have not required loading a memory page from disk.\",\n",
    "\"majflt/s\": \"Total number of major faults the process has made per second, those which have required loading a memory page from disk.\",\n",
    "\"%user\": \"Percentage of CPU used by the process while executing at the user level (application), with or without nice priority.\",\n",
    "\"%system\": \"Percentage of CPU used by the process while executing at the system level (kernel).\",\n",
    "\"nswap/s\": \"Number of pages from the process address space the system has swapped out per second. This value is always zero with post 2.5 kernels.\",\n",
    "\"CPU\": \"Processor number to which the process is attached.\",\n",
    "\n",
    "\"cminflt/s\": \"Total number of minor faults the child processes have made per second, those which have not required loading a memory page from disk.\",\n",
    "\"cmajflt/s\": \"Total number of major faults the child processes have made per second, those which have required loading a memory page from disk.\",\n",
    "\"%cuser\": \"Percentage of CPU used by the child processes while executing at the user level (application), with or without nice priority.\",\n",
    "\"%csystem\": \"Percentage of CPU used by the child processes while executing at the system level (kernel).\",\n",
    "\"cnswap/s\": \"Number of pages from the child processes address spaces the system has swapped out per second. This value is always zero with post 2.5 kernels.\",\n",
    "\n",
    "\"rcvin/s\": \"Number of receive interrupts per second for current serial line. Serial line number is given in the TTY column.\",\n",
    "\"xmtin/s\": \"Number of transmit interrupts per second for current serial line.\",\n",
    "\"framerr/s\": \"Number of frame errors per second for current serial line.\",\n",
    "\"prtyerr/s\": \"Number of parity errors per second for current serial line.\",\n",
    "\"brk/s\": \"Number of breaks per second for current serial line.\",\n",
    "\"ovrun/s\": \"Number of overrun errors per second for current serial line.\"\n",
    "}"
   ]
  },
  {
   "cell_type": "code",
   "execution_count": null,
   "id": "587806be-e658-483b-bacb-1453b917327b",
   "metadata": {},
   "outputs": [],
   "source": [
    "with open(\"sar_output.dat\",\"w\") as file_handle:\n",
    "    file_handle.write(fileoutput)"
   ]
  },
  {
   "cell_type": "markdown",
   "id": "e738b607-43fe-40c6-ae1e-02c6e2314db7",
   "metadata": {},
   "source": [
    "Now that the file exists on disk, read and plot"
   ]
  },
  {
   "cell_type": "code",
   "execution_count": null,
   "id": "61f0cb7b-024d-407f-82a2-4f766786a74a",
   "metadata": {},
   "outputs": [],
   "source": [
    "with open(\"sar_output.dat\",\"r\") as file_handle:\n",
    "    file=file_handle.read()"
   ]
  },
  {
   "cell_type": "code",
   "execution_count": null,
   "id": "2fca23e3-32d7-4b2f-9862-107b2d08bc04",
   "metadata": {},
   "outputs": [],
   "source": [
    "# https://pandas.pydata.org/docs/reference/api/pandas.read_csv.html\n",
    "\n",
    "df = pandas.read_csv(\"sar_output.dat\",delimiter=\";\")"
   ]
  },
  {
   "cell_type": "code",
   "execution_count": null,
   "id": "5db88b94-217f-4b1f-bfbd-6072c6f6ab6e",
   "metadata": {
    "tags": []
   },
   "outputs": [],
   "source": [
    "df.T"
   ]
  },
  {
   "cell_type": "markdown",
   "id": "426ce722-8256-4fe2-9558-0a4deec2e359",
   "metadata": {},
   "source": [
    "problem: number of header entries not same as number of columns"
   ]
  },
  {
   "cell_type": "code",
   "execution_count": null,
   "id": "2f083be9-e33e-48b9-8ed4-76947619f851",
   "metadata": {},
   "outputs": [],
   "source": [
    "len(\"hostname;interval;timestamp;CPU;%usr;%nice;%sys;%iowait;%steal;%irq;%soft;%guest;%gnice;%idle[...];proc/s;cswch/s;pswpin/s;pswpout/s;pgpgin/s;pgpgout/s;fault/s;majflt/s;pgfree/s;pgscank/s;pgscand/s;pgsteal/s;%vmeff;tps;rtps;wtps;bread/s;bwrtn/s;frmpg/s;bufpg/s;campg/s;kbmemfree;kbmemused;%memused;kbbuffers;kbcached;kbcommit;%commit;kbactive;kbinact;kbdirty;kbswpfree;kbswpused;%swpused;kbswpcad;%swpcad;kbhugfree;kbhugused;%hugused;dentunusd;file-nr;inode-nr;pty-nr;runq-sz;plist-sz;ldavg-1;ldavg-5;ldavg-15;blocked;TTY;rcvin/s;txmtin/s;framerr/s;prtyerr/s;brk/s;ovrun/s[...];DEV;tps;rd_sec/s;wr_sec/s;avgrq-sz;avgqu-sz;await;svctm;%util[...];IFACE;rxpck/s;txpck/s;rxkB/s;txkB/s;rxcmp/s;txcmp/s;rxmcst/s[...];IFACE;rxerr/s;txerr/s;coll/s;rxdrop/s;txdrop/s;txcarr/s;rxfram/s;rxfifo/s;txfifo/s[...];call/s;retrans/s;read/s;write/s;access/s;getatt/s;scall/s;badcall/s;packet/s;udp/s;tcp/s;hit/s;miss/s;sread/s;swrite/s;saccess/s;sgetatt/s;totsck;tcpsck;udpsck;rawsck;ip-frag;tcp-tw\".split(\";\"))"
   ]
  },
  {
   "cell_type": "code",
   "execution_count": null,
   "id": "b5d9015a-e536-4f15-b1fe-9c15bcf83395",
   "metadata": {},
   "outputs": [],
   "source": [
    "len(\"centos-s-1vcpu-512mb-10gb-nyc1-01;599;2022-08-20 18:40:01;-1;0.12;0.00;0.11;0.00;0.21;0.00;0.00;0.00;0.00;99.57;0;0.12;0.00;0.11;0.00;0.21;0.00;0.00;0.00;0.00;99.57;0.17;66.56;0.00;0.00;1.53;1.76;122.97;0.00;51.90;0.00;0.00;0.00;0.00;0.20;0.01;0.19;3.06;3.52;0.02;0.00;0.46;93508;405060;81.24;40;272380;358892;71.98;210388;96704;0;0;0;0.00;0;0.00;0;0;0.00;12617;992;23885;1;1;113;0.00;0.01;0.05;0;0;0.00;0;0.00;0;0.00;0;0.00;0;0.00;0;0.00;dev253-0;0.20;3.06;3.52;33.70;0.00;2.32;1.50;0.03;dev253-16;0.00;0.00;0.00;0.00;0.00;0.00;0.00;0.00;eth0;4.09;3.21;0.36;1.11;0.00;0.00;0.00;eth1;0.00;0.00;0.00;0.00;0.00;0.00;0.00;lo;0.00;0.00;0.00;0.00;0.00;0.00;0.00;eth0;0.00;0.00;0.00;0.00;0.00;0.00;0.00;0.00;0.00;eth1;0.00;0.00;0.00;0.00;0.00;0.00;0.00;0.00;0.00;lo;0.00;0.00;0.00;0.00;0.00;0.00;0.00;0.00;0.00;0.00;0.00;0.00;0.00;0.00;0.00;0.00;0.00;0.00;0.00;0.00;0.00;0.00;0.00;0.00;0.00;0.00;177;4;3;1;0;0\".split(\";\"))"
   ]
  },
  {
   "cell_type": "code",
   "execution_count": null,
   "id": "82d78b5e-38f0-42f2-96d7-1fdc775c1e47",
   "metadata": {},
   "outputs": [],
   "source": [
    "column_meanings['ovrun/s']"
   ]
  },
  {
   "cell_type": "code",
   "execution_count": null,
   "id": "524fbcd7-1c8f-4da3-aaad-5501153a6167",
   "metadata": {},
   "outputs": [],
   "source": [
    "column_meanings['%util']"
   ]
  },
  {
   "cell_type": "markdown",
   "id": "b1ccaee1-53c0-4a9f-be2a-2939fea30114",
   "metadata": {},
   "source": [
    "# write to file as columns"
   ]
  },
  {
   "cell_type": "markdown",
   "id": "be3ddf72-0ff6-48b6-affd-1ddaf630983c",
   "metadata": {},
   "source": [
    "```bash\n",
    "sadf -T -h -d /var/log/sa/sa20 -- -A > file.dat\n",
    "```\n",
    "\n",
    "This is worse, as the data columns and header columns are interspersed with \"restart\" notices. So there are three different column lengths."
   ]
  },
  {
   "cell_type": "code",
   "execution_count": null,
   "id": "da97892b-426d-4506-b5e4-79ee396ed836",
   "metadata": {},
   "outputs": [],
   "source": [
    "with open(\"file_2022-08-20_2.dat\",\"r\") as file_handle:\n",
    "    file=file_handle.read()"
   ]
  },
  {
   "cell_type": "code",
   "execution_count": null,
   "id": "b5d3aa89-64a8-413e-b25c-21c216e73ef1",
   "metadata": {
    "tags": []
   },
   "outputs": [],
   "source": [
    "print(file)"
   ]
  },
  {
   "cell_type": "markdown",
   "id": "19cfd599-5e07-496b-b457-84f5fa231652",
   "metadata": {},
   "source": [
    "# write to file as JSON"
   ]
  },
  {
   "cell_type": "markdown",
   "id": "b91fa086-3865-445d-8215-e153cc247962",
   "metadata": {},
   "source": [
    "```bash\n",
    "sadf -T -j /var/log/sa/sa20 -- -A > file.json\n",
    "```"
   ]
  },
  {
   "cell_type": "code",
   "execution_count": null,
   "id": "3b75017d-2b92-4392-b4b3-750133445a1c",
   "metadata": {},
   "outputs": [],
   "source": [
    "with open(\"file_2022-08-20_2.json\",\"r\") as file_handle:\n",
    "    file=json.load(file_handle)"
   ]
  },
  {
   "cell_type": "code",
   "execution_count": null,
   "id": "9b99918d-d6ce-464f-bdc3-ea2cc55f3cb8",
   "metadata": {},
   "outputs": [],
   "source": [
    "len(file['sysstat']['hosts'])"
   ]
  },
  {
   "cell_type": "code",
   "execution_count": null,
   "id": "9b8ad576-bfba-43f4-8491-b6e2e4bd0110",
   "metadata": {},
   "outputs": [],
   "source": [
    "file['sysstat']['hosts'][0].keys()"
   ]
  },
  {
   "cell_type": "code",
   "execution_count": null,
   "id": "ebea09ee-9be8-4849-888e-15e570eb7f71",
   "metadata": {},
   "outputs": [],
   "source": [
    "file['sysstat']['hosts'][0]['restarts']"
   ]
  },
  {
   "cell_type": "code",
   "execution_count": null,
   "id": "7e2fa6c4-ab8a-4e35-83b9-63f959f5cd07",
   "metadata": {},
   "outputs": [],
   "source": [
    "len(file['sysstat']['hosts'][0]['statistics'])"
   ]
  },
  {
   "cell_type": "code",
   "execution_count": null,
   "id": "a8503bda-940b-43ee-acd9-165ad357df8c",
   "metadata": {
    "tags": []
   },
   "outputs": [],
   "source": [
    "print(json.dumps(file['sysstat']['hosts'][0]['statistics'][0], indent=2))"
   ]
  },
  {
   "cell_type": "code",
   "execution_count": null,
   "id": "1baa020c-5e30-4c6d-8abe-d3c1f51e922e",
   "metadata": {},
   "outputs": [],
   "source": [
    "print(file['sysstat']['hosts'][0]['statistics'][0]['timestamp']['date'])\n",
    "print(file['sysstat']['hosts'][0]['statistics'][0]['timestamp']['time'])"
   ]
  },
  {
   "cell_type": "code",
   "execution_count": null,
   "id": "c5220e64-4054-4754-b926-15863bde7e9b",
   "metadata": {},
   "outputs": [],
   "source": [
    "to_convert = file['sysstat']['hosts'][0]['statistics'][0]['timestamp']['date']+\" \"+file['sysstat']['hosts'][0]['statistics'][0]['timestamp']['time']\n",
    "\n",
    "datetime_object = datetime.datetime.strptime(to_convert, '%Y-%m-%d %H:%M:%S')\n",
    "\n",
    "datetime_object"
   ]
  },
  {
   "cell_type": "code",
   "execution_count": null,
   "id": "625f332d-6dcf-45f5-a149-b2c22680bdc7",
   "metadata": {},
   "outputs": [],
   "source": [
    "file['sysstat']['hosts'][0]['statistics'][0]['cpu-load-all'][0]['idle']"
   ]
  },
  {
   "cell_type": "code",
   "execution_count": null,
   "id": "73415843-6ea3-4002-93a0-e7d1a2b2c01f",
   "metadata": {},
   "outputs": [],
   "source": [
    "file['sysstat']['hosts'][0]['statistics'][0]['cpu-load-all'][0]['cpu']"
   ]
  },
  {
   "cell_type": "code",
   "execution_count": null,
   "id": "7ba8188e-0712-432d-924b-49bcde74136a",
   "metadata": {
    "tags": []
   },
   "outputs": [],
   "source": [
    "def expand_list(parent_key: str, list_to_expand: list):\n",
    "    for index, item in enumerate(list_to_expand):\n",
    "        #print(type(item))\n",
    "        type_test(parent_key+\"__\"+str(index), item)\n",
    "\n",
    "def expand_dict(parent_key: str, dict_to_expand: dict):\n",
    "    for key, val in dict_to_expand.items():\n",
    "        #print(type(val))\n",
    "        type_test(parent_key+\"__\"+key, val)\n",
    "\n",
    "def type_test(key: str, to_test):\n",
    "    global results_dict\n",
    "    if type(to_test)==str:\n",
    "        results_dict[key]= to_test\n",
    "    elif type(to_test)==int:\n",
    "        results_dict[key]= to_test\n",
    "    elif type(to_test)==float:\n",
    "        results_dict[key]= to_test\n",
    "    elif type(to_test)==dict:\n",
    "        expand_dict(key, to_test)\n",
    "    elif type(to_test)==list:\n",
    "        expand_list(key, to_test)\n",
    "    else:\n",
    "        raise Exception(\"unrecognized type\")\n",
    "    return results_dict\n",
    "        \n",
    "\n",
    "results_dict = {}\n",
    "for key_0, val_0 in file['sysstat']['hosts'][0]['statistics'][0].items():\n",
    "    #print(key_0)\n",
    "    if type(val_0)==list:\n",
    "        expand_list(key_0, val_0)\n",
    "    elif type(val_0)==dict:\n",
    "        expand_dict(key_0, val_0)\n",
    "    else:\n",
    "        raise Exception(\"unrecognized type\")"
   ]
  },
  {
   "cell_type": "code",
   "execution_count": null,
   "id": "6bdf6c4f-2d01-459f-af69-2190fc154a39",
   "metadata": {},
   "outputs": [],
   "source": [
    "list_of_result_dicts = []\n",
    "for entry in file['sysstat']['hosts'][0]['statistics']:\n",
    "    results_dict = {}\n",
    "    for key_0, val_0 in entry.items():\n",
    "        if type(val_0)==list:\n",
    "            expand_list(key_0, val_0)\n",
    "        elif type(val_0)==dict:\n",
    "            expand_dict(key_0, val_0)\n",
    "        else:\n",
    "            raise Exception(\"unrecognized type\")\n",
    "    list_of_result_dicts.append(results_dict)"
   ]
  },
  {
   "cell_type": "code",
   "execution_count": null,
   "id": "516cc06d-58a0-471a-a5d7-6d1fcbefcbe8",
   "metadata": {},
   "outputs": [],
   "source": [
    "df = pandas.DataFrame(list_of_result_dicts)"
   ]
  },
  {
   "cell_type": "code",
   "execution_count": null,
   "id": "a04657ad-309d-48cb-bfb2-175978205d91",
   "metadata": {
    "tags": []
   },
   "outputs": [],
   "source": [
    "df.T"
   ]
  },
  {
   "cell_type": "code",
   "execution_count": null,
   "id": "605b70e0-5816-4153-90dc-78b48bdea1b3",
   "metadata": {},
   "outputs": [],
   "source": [
    "# https://stackoverflow.com/a/39641223/1164295\n",
    "df['YYYY-MM-DD H:M:S'] = pandas.to_datetime(df['timestamp__date'] + \" \" + \n",
    "                                        df['timestamp__time'], \n",
    "                                        format='%Y-%m-%d %H:%M:%S')"
   ]
  },
  {
   "cell_type": "code",
   "execution_count": null,
   "id": "922f48e1-8c51-4ad9-aa4b-b35932c61832",
   "metadata": {},
   "outputs": [],
   "source": [
    "df['cpu-load-all__0__iowait']"
   ]
  },
  {
   "cell_type": "code",
   "execution_count": null,
   "id": "669b5174-bff5-4b27-ac8c-35e02f579734",
   "metadata": {},
   "outputs": [],
   "source": [
    "plt.plot_date(x=df['YYYY-MM-DD H:M:S'], y=df['cpu-load-all__0__iowait'])\n",
    "\n",
    "ax = plt.gca()\n",
    "\n",
    "plt.gca().set_title('cpu-load-all__0__iowait')\n",
    "plt.gca().set_xlabel(\"time\")\n",
    "\n",
    "# plt.gcf().autofmt_xdate\n",
    "\n",
    "date_format = mpl_dates.DateFormatter('%Y-%m-%d %H:%M:%S')\n",
    "plt.gca().xaxis.set_major_formatter(date_format)\n",
    "plt.xticks(rotation = 85)\n",
    "plt.show()\n"
   ]
  },
  {
   "cell_type": "code",
   "execution_count": null,
   "id": "22c6553e-e5fb-4d2c-a6c4-a7ce5edc61f0",
   "metadata": {
    "tags": []
   },
   "outputs": [],
   "source": [
    "[x.strip(\"/s\").strip(\"%\").lower() for x in column_meanings.keys()]"
   ]
  },
  {
   "cell_type": "code",
   "execution_count": null,
   "id": "3a74d2eb-70bf-484f-b994-fe502542c71a",
   "metadata": {},
   "outputs": [],
   "source": [
    "def create_plot(df, column_name):\n",
    "    plot_name = column_name.split(\"__\")[-1]\n",
    "    print(\"variable from JSON:\", plot_name)\n",
    "    \n",
    "    for key,val in column_meanings.items():\n",
    "        if plot_name in key.strip(\"/s\").strip(\"%\").lower():\n",
    "            print(\"  column name in man page:\", key)\n",
    "            print(\"  definition:\", val)\n",
    "    \n",
    "    if df[column_name].nunique()==1:\n",
    "        print(\"  is hidden because all values are same, specifically\", \n",
    "              df[column_name][0],\"\\n\\n\")\n",
    "    else:\n",
    "        plt.plot_date(x=df['YYYY-MM-DD H:M:S'], y=df[column_name])\n",
    "\n",
    "        ax = plt.gca()\n",
    "\n",
    "        plt.gca().set_title(column_name)\n",
    "        plt.gca().set_xlabel(\"time\")\n",
    "\n",
    "        # plt.gcf().autofmt_xdate\n",
    "\n",
    "        date_format = mpl_dates.DateFormatter('%Y-%m-%d %H:%M:%S')\n",
    "        plt.gca().xaxis.set_major_formatter(date_format)\n",
    "        plt.xticks(rotation = 85)\n",
    "        plt.show()"
   ]
  },
  {
   "cell_type": "code",
   "execution_count": null,
   "id": "67a40dea-b198-4107-9185-410e0b86ea40",
   "metadata": {},
   "outputs": [],
   "source": [
    "for column_name in df.columns:\n",
    "    # https://pandas.pydata.org/docs/reference/api/pandas.DataFrame.dtypes.html\n",
    "    if ((df[column_name].dtype==\"int64\") or \n",
    "        (df[column_name].dtype==\"float64\")):\n",
    "        create_plot(df, column_name)\n"
   ]
  },
  {
   "cell_type": "code",
   "execution_count": null,
   "id": "14166696-8112-4233-a5f0-8c36d3c89faa",
   "metadata": {},
   "outputs": [],
   "source": []
  }
 ],
 "metadata": {
  "kernelspec": {
   "display_name": "Python 3 (ipykernel)",
   "language": "python",
   "name": "python3"
  },
  "language_info": {
   "codemirror_mode": {
    "name": "ipython",
    "version": 3
   },
   "file_extension": ".py",
   "mimetype": "text/x-python",
   "name": "python",
   "nbconvert_exporter": "python",
   "pygments_lexer": "ipython3",
   "version": "3.9.6"
  }
 },
 "nbformat": 4,
 "nbformat_minor": 5
}
